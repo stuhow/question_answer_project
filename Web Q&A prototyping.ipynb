{
 "cells": [
  {
   "cell_type": "code",
   "execution_count": 1,
   "id": "eeb89262",
   "metadata": {},
   "outputs": [],
   "source": [
    "# https://platform.openai.com/docs/tutorials/web-qa-embeddings"
   ]
  },
  {
   "cell_type": "code",
   "execution_count": 10,
   "id": "64c17899",
   "metadata": {},
   "outputs": [],
   "source": [
    "import requests\n",
    "import re\n",
    "import tiktoken\n",
    "import pandas as pd\n",
    "import os\n",
    "import openai\n",
    "import requests\n",
    "from bs4 import BeautifulSoup\n",
    "import time\n",
    "import random\n",
    "\n",
    "openai.api_key = KEY"
   ]
  },
  {
   "cell_type": "code",
   "execution_count": 3,
   "id": "f351efb1",
   "metadata": {},
   "outputs": [],
   "source": [
    "url = \"https://www.gov.uk/api/content/foreign-travel-advice\"\n",
    "base_url = \"https://www.gov.uk/api/content\""
   ]
  },
  {
   "cell_type": "code",
   "execution_count": 4,
   "id": "3bc62037",
   "metadata": {},
   "outputs": [],
   "source": [
    "# A function to extract the list of individual country api urls\n",
    "def url_list(url):\n",
    "    response = requests.get(url).json()\n",
    "    list_of_urls = [i[\"base_path\"] for i in response[\"links\"][\"children\"]]\n",
    "    return list_of_urls"
   ]
  },
  {
   "cell_type": "code",
   "execution_count": 44,
   "id": "cd3bcb45",
   "metadata": {},
   "outputs": [],
   "source": [
    "# functions to clean text from api\n",
    "def remove_text_between_angle_brackets(input_string):\n",
    "    pattern = r'<.*?>'  # This pattern matches everything between angle brackets\n",
    "    result = re.sub(pattern, '', input_string)\n",
    "    return result\n",
    "\n",
    "def remove_newlines(serie):\n",
    "    serie = serie.replace('\\n', ' ')\n",
    "    serie = serie.replace('\\\\n', ' ')\n",
    "    serie = serie.replace('  ', ' ')\n",
    "    serie = serie.replace('   ', ' ')\n",
    "    return serie\n",
    "\n",
    "def clean_text(serie):\n",
    "    serie = serie.replace('\\n', ' ')\n",
    "    serie = serie.replace('\\\\n', ' ')\n",
    "    serie = serie.replace('\\r', ' ')\n",
    "    serie = serie.split()\n",
    "    serie = ' '.join(serie)\n",
    "    if len(serie.split(\"Climate Trip ideas\")) == 1:\n",
    "        serie = serie.split(\"Climate Trip ideas\")[0].split(\"Why travel with\")[0].strip()\n",
    "    else:\n",
    "        serie = serie.split(\"Climate Trip ideas\")[1].split(\"Why travel with\")[0].strip()\n",
    "    serie = re.sub(r'Creating tailor-made.*?Request a brochure', '', serie)\n",
    "    return serie"
   ]
  },
  {
   "cell_type": "code",
   "execution_count": 6,
   "id": "cebdbb97",
   "metadata": {
    "scrolled": true
   },
   "outputs": [],
   "source": [
    "# a function to extract the text from each country on the fco government advice page and save them into individual text files\n",
    "\n",
    "def api_crawl():\n",
    "    # get a list of the api urls\n",
    "    api_url_list = url_list(url)\n",
    "\n",
    "    # Create a directory to store the text files\n",
    "    if not os.path.exists(\"raw_data/\"):\n",
    "            os.mkdir(\"raw_data/\")\n",
    "\n",
    "    if not os.path.exists(\"raw_data/\"):\n",
    "            os.mkdir(\"raw_data/\")\n",
    "\n",
    "    # Create a directory to store the csv files\n",
    "    if not os.path.exists(\"processed\"):\n",
    "            os.mkdir(\"processed\")\n",
    "\n",
    "    # iterate through url list to get all the text for every country\n",
    "    for country in api_url_list:                                                 \n",
    "        \n",
    "\n",
    "        # Save text from the url to a country.txt file\n",
    "        with open('raw_data/'+ country[23:] + \".txt\", \"w\", encoding=\"UTF-8\") as f:\n",
    "            \n",
    "            # create api url\n",
    "            country_url = base_url + country\n",
    "            \n",
    "            # make request to api\n",
    "            response = requests.get(country_url).json()\n",
    "            \n",
    "            # extract and clean text for the country\n",
    "            text = ''\n",
    "            for part in response[\"details\"][\"parts\"]:\n",
    "                part = remove_text_between_angle_brackets(part['body'])\n",
    "                part = remove_newlines(part)\n",
    "                text+=part\n",
    "\n",
    "            # write the text to the file in the text directory\n",
    "            f.write(text)\n",
    "\n",
    "api_crawl()"
   ]
  },
  {
   "cell_type": "code",
   "execution_count": 11,
   "id": "c6a2ddec-b839-4d27-8350-f1bbabed9ab3",
   "metadata": {},
   "outputs": [],
   "source": [
    "# a function to extract the list of countries from the UK Audley website\n",
    "\n",
    "def web_crawl_destinations():\n",
    "    # URL of the website to scrape\n",
    "    url = \"https://www.audleytravel.com/destinations\"\n",
    "    \n",
    "    headers = {\n",
    "        \"User-Agent\": \"Mozilla/5.0 (Windows NT 10.0; Win64; x64) AppleWebKit/537.36 (KHTML, like Gecko) Chrome/115.0.0.0 Safari/537.36\"\n",
    "    }\n",
    "    \n",
    "    destination_response = requests.get(url, headers=headers)\n",
    "    \n",
    "    # Parse the HTML content using BeautifulSoup\n",
    "    destination_soup = BeautifulSoup(destination_response.content, \"html.parser\")\n",
    "\n",
    "    article_divs = destination_soup.find_all(\"ul\", class_=\"dest-list__links\")\n",
    "\n",
    "    country_links = []\n",
    "    \n",
    "    # Iterate through the found <div> elements\n",
    "    for div in article_divs:\n",
    "        anchor_tags = div.find_all(\"a\")\n",
    "        # Iterate through the <a> elements\n",
    "        for anchor in anchor_tags:\n",
    "            href = anchor.get(\"href\")  # Extract href attribute\n",
    "            country_links.append(href)\n",
    "\n",
    "    # remove the duplicates in the list\n",
    "    country_links = list(dict.fromkeys(country_links))\n",
    "    \n",
    "    time.sleep(1)\n",
    "    \n",
    "    return country_links\n",
    "\n",
    "countries = web_crawl_destinations()"
   ]
  },
  {
   "cell_type": "code",
   "execution_count": 45,
   "id": "2f02bf2f-7e00-43bd-938e-ffebc93dabf3",
   "metadata": {},
   "outputs": [
    {
     "name": "stdout",
     "output_type": "stream",
     "text": [
      "paraguay\n",
      "peru\n",
      "the-philippines\n",
      "portugal\n",
      "rwanda\n",
      "saint-kitts-and-nevis\n",
      "saint-lucia\n",
      "samoa\n",
      "the-seychelles\n",
      "south-africa\n",
      "south-korea\n",
      "spain\n",
      "sri-lanka\n",
      "st-vincent-and-the-grenadines\n",
      "tanzania\n",
      "thailand\n",
      "turkey\n",
      "uganda\n",
      "uruguay\n",
      "usa\n",
      "vietnam\n",
      "zambia\n",
      "zanzibar-archipelago\n",
      "zimbabwe\n"
     ]
    }
   ],
   "source": [
    "# a function to extract the text from each page and save it to a text file\n",
    "\n",
    "def web_crawl_text(countries):\n",
    "\n",
    "    # header used for scraping\n",
    "    headers = {\n",
    "        \"User-Agent\": \"Mozilla/5.0 (Windows NT 10.0; Win64; x64) AppleWebKit/537.36 (KHTML, like Gecko) Chrome/115.0.0.0 Safari/537.36\"\n",
    "    }\n",
    "\n",
    "    for country in countries:\n",
    "        \n",
    "        url = f\"https://www.audleytravel.com{country}/best-time-to-visit\"\n",
    "\n",
    "        country = country.replace(\"/\",\"_\")\n",
    "        \n",
    "        # Save text from the url to a country.txt file\n",
    "        with open('raw_data/' + country[1:] + \"_best_time\" + \".txt\", \"w\", encoding=\"UTF-8\") as f:\n",
    "            \n",
    "            print(country[1:])\n",
    "            \n",
    "            response = requests.get(url, headers=headers)\n",
    "        \n",
    "            # Parse the HTML content using BeautifulSoup\n",
    "            soup = BeautifulSoup(response.content, \"html.parser\")\n",
    "\n",
    "            if \"Page not found!\" in soup.get_text():    # check if its a valid page, if not create new url. down to slight differences in the urls\n",
    "                print(f\"{country[1:]} page has a different format\")\n",
    "                time.sleep(random.randint(2, 5)) # sleep\n",
    "                url = f\"https://www.audleytravel.com{country.replace('_','/')}/best-time-to-visit{country.replace('_','-')}\" # new url\n",
    "                if country[1:] == \"usa_hawaii\":                                        # US state with a stand alone url\n",
    "                    url = \"https://www.audleytravel.com/usa/hawaii/best-time-to-visit-hawaii\"\n",
    "                response = requests.get(url, headers=headers) \n",
    "                soup = BeautifulSoup(response.content, \"html.parser\") \n",
    "                \n",
    "    \n",
    "            # extract and clean text\n",
    "            text = clean_text(soup.get_text())\n",
    "    \n",
    "            # write the text to the file in the text directory\n",
    "            f.write(text)\n",
    "            time.sleep(random.randint(2, 5))\n",
    "\n",
    "\n",
    "web_crawl_text(countries[55:])"
   ]
  },
  {
   "cell_type": "code",
   "execution_count": 46,
   "id": "53ecabcd",
   "metadata": {},
   "outputs": [
    {
     "data": {
      "text/html": [
       "<div>\n",
       "<style scoped>\n",
       "    .dataframe tbody tr th:only-of-type {\n",
       "        vertical-align: middle;\n",
       "    }\n",
       "\n",
       "    .dataframe tbody tr th {\n",
       "        vertical-align: top;\n",
       "    }\n",
       "\n",
       "    .dataframe thead th {\n",
       "        text-align: right;\n",
       "    }\n",
       "</style>\n",
       "<table border=\"1\" class=\"dataframe\">\n",
       "  <thead>\n",
       "    <tr style=\"text-align: right;\">\n",
       "      <th></th>\n",
       "      <th>fname</th>\n",
       "      <th>text</th>\n",
       "    </tr>\n",
       "  </thead>\n",
       "  <tbody>\n",
       "    <tr>\n",
       "      <th>0</th>\n",
       "      <td>curacao</td>\n",
       "      <td>Before you travel, check the ‘Entry requireme...</td>\n",
       "    </tr>\n",
       "    <tr>\n",
       "      <th>1</th>\n",
       "      <td>andorra</td>\n",
       "      <td>The Foreign, Commonwealth &amp;amp; Development Of...</td>\n",
       "    </tr>\n",
       "    <tr>\n",
       "      <th>2</th>\n",
       "      <td>haiti</td>\n",
       "      <td>The Foreign, Commonwealth &amp;amp; Development Of...</td>\n",
       "    </tr>\n",
       "    <tr>\n",
       "      <th>3</th>\n",
       "      <td>namibia_best_time</td>\n",
       "      <td>The best time to visit Namibia is from July to...</td>\n",
       "    </tr>\n",
       "    <tr>\n",
       "      <th>4</th>\n",
       "      <td>finland</td>\n",
       "      <td>The Foreign, Commonwealth &amp;amp; Development Of...</td>\n",
       "    </tr>\n",
       "  </tbody>\n",
       "</table>\n",
       "</div>"
      ],
      "text/plain": [
       "               fname                                               text\n",
       "0            curacao   Before you travel, check the ‘Entry requireme...\n",
       "1            andorra  The Foreign, Commonwealth &amp; Development Of...\n",
       "2              haiti  The Foreign, Commonwealth &amp; Development Of...\n",
       "3  namibia_best_time  The best time to visit Namibia is from July to...\n",
       "4            finland  The Foreign, Commonwealth &amp; Development Of..."
      ]
     },
     "execution_count": 46,
     "metadata": {},
     "output_type": "execute_result"
    }
   ],
   "source": [
    "#create a df from the stored text files\n",
    "\n",
    "# Create a list to store the text files\n",
    "texts=[]\n",
    "\n",
    "# Get all the text files in the text directory\n",
    "for file in os.listdir(\"raw_data/\"):\n",
    "\n",
    "    # Open the file and read the text\n",
    "    with open(\"raw_data/\" + file, \"r\", encoding=\"UTF-8\") as f:\n",
    "        text = f.read()\n",
    "\n",
    "        # append text to list.\n",
    "        texts.append((file[:-4], text))\n",
    "\n",
    "# Create a dataframe from the list of texts\n",
    "df = pd.DataFrame(texts, columns = ['fname', 'text'])\n",
    "\n",
    "# # Set the text column to be the raw text with the newlines removed\n",
    "df.to_csv('processed/scraped.csv')\n",
    "df.head()"
   ]
  },
  {
   "cell_type": "code",
   "execution_count": 47,
   "id": "34f1154e",
   "metadata": {},
   "outputs": [
    {
     "data": {
      "text/plain": [
       "<Axes: >"
      ]
     },
     "execution_count": 47,
     "metadata": {},
     "output_type": "execute_result"
    },
    {
     "data": {
      "image/png": "[encoded data removed]",
      "text/plain": [
       "<Figure size 640x480 with 1 Axes>"
      ]
     },
     "metadata": {},
     "output_type": "display_data"
    }
   ],
   "source": [
    "import tiktoken\n",
    "\n",
    "# Load the cl100k_base tokenizer which is designed to work with the ada-002 model\n",
    "tokenizer = tiktoken.get_encoding(\"cl100k_base\")\n",
    "\n",
    "df = pd.read_csv('processed/scraped.csv', index_col=0)\n",
    "df.columns = ['title', 'text']\n",
    "\n",
    "# Tokenize the text and save the number of tokens to a new column\n",
    "df['n_tokens'] = df.text.apply(lambda x: len(tokenizer.encode(x)))\n",
    "\n",
    "# Visualize the distribution of the number of tokens per row using a histogram\n",
    "df.n_tokens.hist()"
   ]
  },
  {
   "cell_type": "code",
   "execution_count": 48,
   "id": "f351a0d3",
   "metadata": {},
   "outputs": [],
   "source": [
    "max_tokens = 500\n",
    "\n",
    "# Function to split the text into chunks of a maximum number of tokens\n",
    "def split_into_many(text, max_tokens = max_tokens):\n",
    "\n",
    "    # Split the text into sentences\n",
    "    sentences = text.split('. ')\n",
    "\n",
    "    # Get the number of tokens for each sentence\n",
    "    n_tokens = [len(tokenizer.encode(\" \" + sentence)) for sentence in sentences]\n",
    "\n",
    "    chunks = []\n",
    "    tokens_so_far = 0\n",
    "    chunk = []\n",
    "\n",
    "    # Loop through the sentences and tokens joined together in a tuple\n",
    "    for sentence, token in zip(sentences, n_tokens):\n",
    "\n",
    "        # If the number of tokens so far plus the number of tokens in the current sentence is greater\n",
    "        # than the max number of tokens, then add the chunk to the list of chunks and reset\n",
    "        # the chunk and tokens so far\n",
    "        if tokens_so_far + token > max_tokens:\n",
    "            chunks.append(\". \".join(chunk) + \".\")\n",
    "            chunk = []\n",
    "            tokens_so_far = 0\n",
    "\n",
    "        # If the number of tokens in the current sentence is greater than the max number of\n",
    "        # tokens, go to the next sentence\n",
    "        if token > max_tokens:\n",
    "            continue\n",
    "\n",
    "        # Otherwise, add the sentence to the chunk and add the number of tokens to the total\n",
    "        chunk.append(sentence)\n",
    "        tokens_so_far += token + 1\n",
    "\n",
    "    return chunks\n",
    "\n",
    "\n",
    "shortened = []\n",
    "\n",
    "# Loop through the dataframe\n",
    "for row in df.iterrows():\n",
    "\n",
    "    # If the text is None, go to the next row\n",
    "    if row[1]['text'] is None:\n",
    "        continue\n",
    "\n",
    "    # If the number of tokens is greater than the max number of tokens, split the text into chunks\n",
    "    if row[1]['n_tokens'] > max_tokens:\n",
    "        shortened += split_into_many(row[1]['text'])\n",
    "\n",
    "    # Otherwise, add the text to the list of shortened texts\n",
    "    else:\n",
    "        shortened.append( row[1]['text'] )"
   ]
  },
  {
   "cell_type": "code",
   "execution_count": 49,
   "id": "96351e45",
   "metadata": {},
   "outputs": [
    {
     "data": {
      "text/plain": [
       "<Axes: >"
      ]
     },
     "execution_count": 49,
     "metadata": {},
     "output_type": "execute_result"
    },
    {
     "data": {
      "image/png": "[encoded data removed]",
      "text/plain": [
       "<Figure size 640x480 with 1 Axes>"
      ]
     },
     "metadata": {},
     "output_type": "display_data"
    }
   ],
   "source": [
    "df = pd.DataFrame(shortened, columns = ['text'])\n",
    "df['n_tokens'] = df.text.apply(lambda x: len(tokenizer.encode(x)))\n",
    "df.n_tokens.hist()"
   ]
  },
  {
   "cell_type": "code",
   "execution_count": 50,
   "id": "6bec80dc",
   "metadata": {},
   "outputs": [
    {
     "data": {
      "text/html": [
       "<div>\n",
       "<style scoped>\n",
       "    .dataframe tbody tr th:only-of-type {\n",
       "        vertical-align: middle;\n",
       "    }\n",
       "\n",
       "    .dataframe tbody tr th {\n",
       "        vertical-align: top;\n",
       "    }\n",
       "\n",
       "    .dataframe thead th {\n",
       "        text-align: right;\n",
       "    }\n",
       "</style>\n",
       "<table border=\"1\" class=\"dataframe\">\n",
       "  <thead>\n",
       "    <tr style=\"text-align: right;\">\n",
       "      <th></th>\n",
       "      <th>text</th>\n",
       "      <th>n_tokens</th>\n",
       "      <th>embeddings</th>\n",
       "    </tr>\n",
       "  </thead>\n",
       "  <tbody>\n",
       "    <tr>\n",
       "      <th>0</th>\n",
       "      <td>Before you travel, check the ‘Entry requireme...</td>\n",
       "      <td>492</td>\n",
       "      <td>[0.011368561536073685, 0.008990953676402569, 0...</td>\n",
       "    </tr>\n",
       "    <tr>\n",
       "      <th>1</th>\n",
       "      <td>Plan ahead and make sure you: can access money...</td>\n",
       "      <td>477</td>\n",
       "      <td>[0.02092743292450905, 0.009720101952552795, 0....</td>\n",
       "    </tr>\n",
       "    <tr>\n",
       "      <th>2</th>\n",
       "      <td>However, the International Air Transport Assoc...</td>\n",
       "      <td>500</td>\n",
       "      <td>[0.006420987192541361, -0.004806826822459698, ...</td>\n",
       "    </tr>\n",
       "    <tr>\n",
       "      <th>3</th>\n",
       "      <td>If you’re transiting through Curaçao Transitin...</td>\n",
       "      <td>497</td>\n",
       "      <td>[0.02678772248327732, 0.015563013963401318, 0....</td>\n",
       "    </tr>\n",
       "    <tr>\n",
       "      <th>4</th>\n",
       "      <td>While travel can be enjoyable, it can sometime...</td>\n",
       "      <td>491</td>\n",
       "      <td>[0.010565687902271748, 0.011830685660243034, 0...</td>\n",
       "    </tr>\n",
       "  </tbody>\n",
       "</table>\n",
       "</div>"
      ],
      "text/plain": [
       "                                                text  n_tokens  \\\n",
       "0   Before you travel, check the ‘Entry requireme...       492   \n",
       "1  Plan ahead and make sure you: can access money...       477   \n",
       "2  However, the International Air Transport Assoc...       500   \n",
       "3  If you’re transiting through Curaçao Transitin...       497   \n",
       "4  While travel can be enjoyable, it can sometime...       491   \n",
       "\n",
       "                                          embeddings  \n",
       "0  [0.011368561536073685, 0.008990953676402569, 0...  \n",
       "1  [0.02092743292450905, 0.009720101952552795, 0....  \n",
       "2  [0.006420987192541361, -0.004806826822459698, ...  \n",
       "3  [0.02678772248327732, 0.015563013963401318, 0....  \n",
       "4  [0.010565687902271748, 0.011830685660243034, 0...  "
      ]
     },
     "execution_count": 50,
     "metadata": {},
     "output_type": "execute_result"
    }
   ],
   "source": [
    "\n",
    "\n",
    "df['embeddings'] = df.text.apply(lambda x: openai.Embedding.create(input=x, engine='text-embedding-ada-002')['data'][0]['embedding'])\n",
    "\n",
    "df.to_csv('processed/embeddings.csv')\n",
    "df.head()"
   ]
  },
  {
   "cell_type": "code",
   "execution_count": 51,
   "id": "753c69d7",
   "metadata": {},
   "outputs": [
    {
     "data": {
      "text/html": [
       "<div>\n",
       "<style scoped>\n",
       "    .dataframe tbody tr th:only-of-type {\n",
       "        vertical-align: middle;\n",
       "    }\n",
       "\n",
       "    .dataframe tbody tr th {\n",
       "        vertical-align: top;\n",
       "    }\n",
       "\n",
       "    .dataframe thead th {\n",
       "        text-align: right;\n",
       "    }\n",
       "</style>\n",
       "<table border=\"1\" class=\"dataframe\">\n",
       "  <thead>\n",
       "    <tr style=\"text-align: right;\">\n",
       "      <th></th>\n",
       "      <th>text</th>\n",
       "      <th>n_tokens</th>\n",
       "      <th>embeddings</th>\n",
       "    </tr>\n",
       "  </thead>\n",
       "  <tbody>\n",
       "    <tr>\n",
       "      <th>0</th>\n",
       "      <td>Before you travel, check the ‘Entry requireme...</td>\n",
       "      <td>492</td>\n",
       "      <td>[0.011368561536073685, 0.008990953676402569, 0...</td>\n",
       "    </tr>\n",
       "    <tr>\n",
       "      <th>1</th>\n",
       "      <td>Plan ahead and make sure you: can access money...</td>\n",
       "      <td>477</td>\n",
       "      <td>[0.02092743292450905, 0.009720101952552795, 0....</td>\n",
       "    </tr>\n",
       "    <tr>\n",
       "      <th>2</th>\n",
       "      <td>However, the International Air Transport Assoc...</td>\n",
       "      <td>500</td>\n",
       "      <td>[0.006420987192541361, -0.004806826822459698, ...</td>\n",
       "    </tr>\n",
       "    <tr>\n",
       "      <th>3</th>\n",
       "      <td>If you’re transiting through Curaçao Transitin...</td>\n",
       "      <td>497</td>\n",
       "      <td>[0.02678772248327732, 0.015563013963401318, 0....</td>\n",
       "    </tr>\n",
       "    <tr>\n",
       "      <th>4</th>\n",
       "      <td>While travel can be enjoyable, it can sometime...</td>\n",
       "      <td>491</td>\n",
       "      <td>[0.010565687902271748, 0.011830685660243034, 0...</td>\n",
       "    </tr>\n",
       "  </tbody>\n",
       "</table>\n",
       "</div>"
      ],
      "text/plain": [
       "                                                text  n_tokens  \\\n",
       "0   Before you travel, check the ‘Entry requireme...       492   \n",
       "1  Plan ahead and make sure you: can access money...       477   \n",
       "2  However, the International Air Transport Assoc...       500   \n",
       "3  If you’re transiting through Curaçao Transitin...       497   \n",
       "4  While travel can be enjoyable, it can sometime...       491   \n",
       "\n",
       "                                          embeddings  \n",
       "0  [0.011368561536073685, 0.008990953676402569, 0...  \n",
       "1  [0.02092743292450905, 0.009720101952552795, 0....  \n",
       "2  [0.006420987192541361, -0.004806826822459698, ...  \n",
       "3  [0.02678772248327732, 0.015563013963401318, 0....  \n",
       "4  [0.010565687902271748, 0.011830685660243034, 0...  "
      ]
     },
     "execution_count": 51,
     "metadata": {},
     "output_type": "execute_result"
    }
   ],
   "source": [
    "import numpy as np\n",
    "from openai.embeddings_utils import distances_from_embeddings\n",
    "\n",
    "df=pd.read_csv('processed/embeddings.csv', index_col=0)\n",
    "df['embeddings'] = df['embeddings'].apply(eval).apply(np.array)\n",
    "\n",
    "df.head()"
   ]
  },
  {
   "cell_type": "code",
   "execution_count": 52,
   "id": "c073de1b",
   "metadata": {},
   "outputs": [],
   "source": [
    "def create_context(\n",
    "    question, df, max_len=1800, size=\"ada\"\n",
    "    ):\n",
    "    \"\"\"\n",
    "    Create a context for a question by finding the most similar context from the dataframe\n",
    "    \"\"\"\n",
    "\n",
    "    # Get the embeddings for the question\n",
    "    q_embeddings = openai.Embedding.create(input=question, engine='text-embedding-ada-002')['data'][0]['embedding']\n",
    "\n",
    "    # Get the distances from the embeddings\n",
    "    df['distances'] = distances_from_embeddings(q_embeddings, df['embeddings'].values, distance_metric='cosine')\n",
    "\n",
    "\n",
    "    returns = []\n",
    "    cur_len = 0\n",
    "\n",
    "    # Sort by distance and add the text to the context until the context is too long\n",
    "    for i, row in df.sort_values('distances', ascending=True).iterrows():\n",
    "\n",
    "        # Add the length of the text to the current length\n",
    "        cur_len += row['n_tokens'] + 4\n",
    "\n",
    "        # If the context is too long, break\n",
    "        if cur_len > max_len:\n",
    "            break\n",
    "\n",
    "        # Else add it to the text that is being returned\n",
    "        returns.append(row[\"text\"])\n",
    "\n",
    "    # Return the context\n",
    "    return \"\\n\\n###\\n\\n\".join(returns)"
   ]
  },
  {
   "cell_type": "code",
   "execution_count": null,
   "id": "77d4a57c",
   "metadata": {},
   "outputs": [],
   "source": []
  },
  {
   "cell_type": "code",
   "execution_count": 53,
   "id": "67fa54bc",
   "metadata": {},
   "outputs": [],
   "source": [
    "def answer_question(\n",
    "    df,\n",
    "    model=\"text-davinci-003\",\n",
    "    question=\"Am I allowed to publish model outputs to Twitter, without a human review?\",\n",
    "    max_len=1800,\n",
    "    size=\"ada\",\n",
    "    debug=False,\n",
    "    max_tokens=150,\n",
    "    stop_sequence=None\n",
    "):\n",
    "    \"\"\"\n",
    "    Answer a question based on the most similar context from the dataframe texts\n",
    "    \"\"\"\n",
    "    context = create_context(\n",
    "        question,\n",
    "        df,\n",
    "        max_len=max_len,\n",
    "        size=size,\n",
    "    )\n",
    "    \n",
    "    # If debug, print the raw model response\n",
    "    if debug:\n",
    "        print(\"Context:\\n\" + context)\n",
    "        print(\"\\n\\n\")\n",
    "\n",
    "    try:\n",
    "        # Create a completions using the question and context\n",
    "        response = openai.Completion.create(\n",
    "            prompt=f\"Answer the question based on the context below, and if the question can't be answered based on the context, say \\\"I don't know\\\"\\n\\nContext: {context}\\n\\n---\\n\\nQuestion: {question}\\nAnswer:\",\n",
    "            temperature=0,\n",
    "            max_tokens=max_tokens,\n",
    "            top_p=1,\n",
    "            frequency_penalty=0,\n",
    "            presence_penalty=0,\n",
    "            stop=stop_sequence,\n",
    "            model=model,\n",
    "        )\n",
    "        return response[\"choices\"][0][\"text\"].strip()\n",
    "    except Exception as e:\n",
    "        print(e)\n",
    "        return \"\""
   ]
  },
  {
   "cell_type": "code",
   "execution_count": null,
   "id": "4af6a33e",
   "metadata": {},
   "outputs": [],
   "source": []
  },
  {
   "cell_type": "code",
   "execution_count": null,
   "id": "2cfe5c75",
   "metadata": {},
   "outputs": [],
   "source": []
  },
  {
   "cell_type": "code",
   "execution_count": 75,
   "id": "dd19154c",
   "metadata": {},
   "outputs": [
    {
     "data": {
      "text/plain": [
       "'The best time to visit the USA depends on which region you are visiting. For the northern USA, the best time to visit is between May and June. For the southern USA, the best time to visit is in spring (March-May), or autumn (September-November).'"
      ]
     },
     "execution_count": 75,
     "metadata": {},
     "output_type": "execute_result"
    }
   ],
   "source": [
    "answer_question(df, question=\"Whens the best time to visit the USA?\")"
   ]
  },
  {
   "cell_type": "code",
   "execution_count": 76,
   "id": "0edc90a4-3373-4617-81f4-e3f934fd059d",
   "metadata": {},
   "outputs": [
    {
     "data": {
      "text/plain": [
       "'It depends on your nationality and the purpose of your travel. You may need an Electronic System for Travel Authorization (ESTA) visa waiver or a visa to enter or transit the USA as a visitor.'"
      ]
     },
     "execution_count": 76,
     "metadata": {},
     "output_type": "execute_result"
    }
   ],
   "source": [
    "answer_question(df, question=\"Do i need a visa?\")"
   ]
  },
  {
   "cell_type": "code",
   "execution_count": 77,
   "id": "1a02a7fa-cade-47de-aff3-e04bc79af1f7",
   "metadata": {},
   "outputs": [
    {
     "data": {
      "text/plain": [
       "\"I don't know.\""
      ]
     },
     "execution_count": 77,
     "metadata": {},
     "output_type": "execute_result"
    }
   ],
   "source": [
    "answer_question(df, question=\"Is it safe to travel?\")"
   ]
  },
  {
   "cell_type": "code",
   "execution_count": 81,
   "id": "045d9c15-5190-4be0-8242-2347059eadce",
   "metadata": {},
   "outputs": [
    {
     "name": "stdout",
     "output_type": "stream",
     "text": [
      "Whens the best time to visit the india?\n",
      "The best time to visit India is between October and March, when the weather is more likely to be warm, sunny, and dry.\n",
      "Do i need a visa?\n",
      "It depends on your nationality and the purpose of your travel. You may need an Electronic System for Travel Authorization (ESTA) visa waiver or a visa to enter or transit the USA as a visitor.\n"
     ]
    }
   ],
   "source": [
    "# no menory Q&A\n",
    "\n",
    "question1 = \"Whens the best time to visit the india?\"\n",
    "question2 = \"Do i need a visa?\"\n",
    "\n",
    "answer1 = answer_question(df, question=question1)\n",
    "answer2 = answer_question(df, question=question2)\n",
    "\n",
    "print(question1)\n",
    "print(answer1)\n",
    "print(question2)\n",
    "print(answer2)"
   ]
  },
  {
   "cell_type": "code",
   "execution_count": 79,
   "id": "34db7b5e-77b4-4a91-a415-84800506fbd5",
   "metadata": {},
   "outputs": [
    {
     "name": "stdout",
     "output_type": "stream",
     "text": [
      "Whens the best time to visit the USA?\n",
      "The best time to visit the USA depends on which region you are visiting. The best time to visit the northern USA is between May and June, while the best time to visit the southern USA is in spring (March-May), or autumn (September-November).\n",
      "Do i need a visa?\n",
      "I don't know.\n"
     ]
    }
   ],
   "source": [
    "# full chain memory\n",
    "memory = \"\"\n",
    "question1 = \"Whens the best time to visit the USA?\"\n",
    "memory += question1 + \" \"\n",
    "answer1 = answer_question(df, question=memory)\n",
    "memory += answer1 + \" \"\n",
    "question2 = \"Do i need a visa?\"\n",
    "memory += question2 + \" \"\n",
    "answer2 = answer_question(df, question=memory)\n",
    "\n",
    "print(question1)\n",
    "print(answer1)\n",
    "print(question2)\n",
    "print(answer2)"
   ]
  },
  {
   "cell_type": "code",
   "execution_count": 80,
   "id": "1029dd84-0086-4bad-ac08-4afefb5f5195",
   "metadata": {},
   "outputs": [
    {
     "data": {
      "text/plain": [
       "'Whens the best time to visit the USA? The best time to visit the USA depends on which region you are visiting. The best time to visit the northern USA is between May and June, while the best time to visit the southern USA is in spring (March-May), or autumn (September-November).Do i need a visa? '"
      ]
     },
     "execution_count": 80,
     "metadata": {},
     "output_type": "execute_result"
    }
   ],
   "source": [
    "memory"
   ]
  },
  {
   "cell_type": "code",
   "execution_count": null,
   "id": "8699f04f-054c-46e9-82bd-b7be037b3564",
   "metadata": {},
   "outputs": [],
   "source": []
  }
 ],
 "metadata": {
  "kernelspec": {
   "display_name": "Python 3 (ipykernel)",
   "language": "python",
   "name": "python3"
  },
  "language_info": {
   "codemirror_mode": {
    "name": "ipython",
    "version": 3
   },
   "file_extension": ".py",
   "mimetype": "text/x-python",
   "name": "python",
   "nbconvert_exporter": "python",
   "pygments_lexer": "ipython3",
   "version": "3.10.6"
  },
  "toc": {
   "base_numbering": 1,
   "nav_menu": {},
   "number_sections": true,
   "sideBar": true,
   "skip_h1_title": false,
   "title_cell": "Table of Contents",
   "title_sidebar": "Contents",
   "toc_cell": false,
   "toc_position": {},
   "toc_section_display": true,
   "toc_window_display": false
  }
 },
 "nbformat": 4,
 "nbformat_minor": 5
}
